{
 "cells": [
  {
   "cell_type": "markdown",
   "metadata": {},
   "source": [
    "# Artificial Intelligence\n",
    "## L.EIC – 3rd Year/2nd Semester\n",
    "### Exercise Sheet 1\n",
    "# Solving Problems by Searching"
   ]
  },
  {
   "cell_type": "markdown",
   "metadata": {},
   "source": [
    "## The Two Buckets Problem\n",
    "\n",
    "<img src=\"https://qph.cf2.quoracdn.net/main-qimg-45726b16b460cae0147ae8ca245a8fb0-pjlq\" width=\"250px\" height=\"250px\" align=\"right\">\n",
    "\n",
    "Two buckets of capacities **c1** (e.g. 4 liters) and **c2** (e.g. 3 liters), respectively, are initially empty. The buckets do not have any intermediate markings. The only operations you can perform are:\n",
    "\n",
    "- Fill (completely) a bucket \n",
    "- Empty a bucket.\n",
    "- Pour one bucket into the other (until the target one is full or the source one is empty).\n",
    "\n",
    "The aim is to determine which operations to carry out so that the first bucket contains exactly **n** liters (e.g. 2 litres)."
   ]
  },
  {
   "cell_type": "markdown",
   "metadata": {},
   "source": [
    "Formulate this problem as a search problem by defining the state representation, initial state, operators (their name, preconditions, effects, and cost), and objective test."
   ]
  },
  {
   "cell_type": "markdown",
   "metadata": {},
   "source": [
    "- State representation: A state can represent a tuple (x,y) where x represents the amount of liters in bucket A and y represents the amount of liters in bucket B.\n",
    "- Inital State: (0,0) since both buckets are empty\n",
    "- Operators: \n",
    "    . Fill (bucket):\n",
    "        -> Name: Fill\n",
    "        -> Preconditions: The specified bucket must be empty.\n",
    "        -> Effetcs: The specified bucket must be filled to its capacity.\n",
    "        -> Cost: 1\n",
    "    . Empty (bucket):\n",
    "        -> Name: Empty\n",
    "        -> Preconditions: The specified bucket must be full.\n",
    "        -> Effetcs: The specified bucket must be emptied.\n",
    "        -> Cost: 1\n",
    "    . Pour (From, To):\n",
    "        -> Name: Pour\n",
    "        -> Preconditions: The 'From' bucket must be filled and the 'To' bucket must have enough space to receive the entire contents of the 'From' bucket.\n",
    "        -> Effetcs: The contents of the 'From' bucket will be poured into the 'To' bucket until the 'To' bucket is full or the 'From' bucket is empty.\n",
    "        -> Cost: 1\n",
    "- Objective test: Check if the amount of liters in the first bucket is equal to the desired amount n. The state (x,y) is a goal state if x = n."
   ]
  },
  {
   "cell_type": "markdown",
   "metadata": {},
   "source": [
    "What is the size of the state space for this problem? Represent the state space by drawing the possible objective states and displaying some of the possible transitions from the initial state."
   ]
  },
  {
   "cell_type": "raw",
   "metadata": {},
   "source": [
    "The state space can be represented by { (x,y) | 0 <= x <= 4 and 0 <= y <= 3 }.\n",
    "\n",
    "- The state space of this problem is the set of all possible states that can be reached by performing the available operators. In this case, the state space is the set\n",
    "  of all possible combinations of liters in the two buckets.\n",
    "- Since the capacities of the buckets are given as c1 and c2, the maximum amount of liters that can be in each bucket is c1 and c2 respectively. Hence, the possible values \n",
    "  of x and y in the state representation (x, y) can range from 0 to c1 and 0 to c2 respectively.\n",
    "- The size of the state space will depend on the capacities of the buckets, c1 and c2, and can be calculated as (c1 + 1) * (c2 + 1). in our case is (4 + 1) * (3 + 1) = 20 states."
   ]
  },
  {
   "cell_type": "markdown",
   "metadata": {},
   "source": [
    "Solve the problem by hand, using tree search. What solutions have you found?"
   ]
  },
  {
   "cell_type": "markdown",
   "metadata": {},
   "source": [
    "<center><div style=\"width: 500px\"><img src=\"./images/3.tree_search.png\" align=\"right\"></div></center>"
   ]
  },
  {
   "cell_type": "markdown",
   "metadata": {},
   "source": [
    "### Buildind a computational approach to handle the problem\n",
    "\n",
    "To build a program to solve the buckets problem, we will implement a solution that separates the problem definition from the algorithms used to traverse the state space. This way, we can reuse our implementations of the search strategies in other problems."
   ]
  },
  {
   "cell_type": "markdown",
   "metadata": {},
   "source": [
    "#### Representing the two buckets problem as a search problem\n",
    "\n",
    "Let's start by defining a state for the buckets problem. For that, it'll suffice to aggregate two quantities, each representing the amount of water in one of the buckets. We also define a way of printing the state."
   ]
  },
  {
   "cell_type": "code",
   "execution_count": 4,
   "metadata": {},
   "outputs": [],
   "source": [
    "class BucketState:\n",
    "    c1 = 4   # capacity for bucket 1\n",
    "    c2 = 3   # capacity for bucket 2\n",
    "    \n",
    "    def __init__(self, b1, b2):\n",
    "        self.b1 = b1\n",
    "        self.b2 = b2\n",
    "\n",
    "    '''needed for the visited list'''\n",
    "    def __eq__(self, other):\n",
    "        if isinstance(other, self.__class__):\n",
    "            return self.__dict__ == other.__dict__\n",
    "        else:\n",
    "            return False\n",
    "\n",
    "    def __ne__(self, other):\n",
    "        \"\"\"Overrides the default implementation (unnecessary in Python 3)\"\"\"\n",
    "        return not self.__eq__(other)\n",
    "    \n",
    "    def __hash__(self):\n",
    "        return hash((self.b1, self.b2)) \n",
    "    ''' - '''\n",
    "\n",
    "    def __str__(self):\n",
    "        return \"(\" + str(self.b1) + \", \" + str(self.b2) + \")\""
   ]
  },
  {
   "cell_type": "markdown",
   "metadata": {},
   "source": [
    "Now we define each of the operators on states:"
   ]
  },
  {
   "cell_type": "code",
   "execution_count": 5,
   "metadata": {},
   "outputs": [],
   "source": [
    "# emptying the first bucket\n",
    "def empty1(state):\n",
    "    if state.b1 > 0:\n",
    "        return BucketState(0, state.b2)\n",
    "    return None\n",
    "\n",
    "# emptying the second bucket\n",
    "def empty2(state):\n",
    "    if state.b2 > 0:\n",
    "        return BucketState(state.b1, 0)\n",
    "    return None\n",
    "\n",
    "# fill the first bucker\n",
    "def fill1(state):\n",
    "    if (state.b1 < state.c1):\n",
    "        return BucketState(state.c1, state.b2)\n",
    "    return None\n",
    "\n",
    "# fill the second bucket\n",
    "def fill2(state):\n",
    "    if (state.b2 < state.c2):\n",
    "        return BucketState(state.b1, state.c2)\n",
    "    return None\n",
    "\n",
    "def pour12_fill2(state):\n",
    "    if (state.b1 >= (state.c2 - state.b2)) and (state.b1 > 0) and (state.b2 < state.c2):\n",
    "        amount = state.c2 - state.b2\n",
    "        return BucketState(state.b1 - amount, state.c2)\n",
    "    return None\n",
    "\n",
    "def pour12_empty1(state):\n",
    "    if (state.b1 <= (state.c2 - state.b2)) and (state.b1 > 0):\n",
    "        amount = state.b2 - state.b1\n",
    "        return BucketState(0, state.b2 - amount)\n",
    "    return None\n",
    "\n",
    "def pour21_fill1(state):\n",
    "    if ((state.c1 - state.b1) <= state.b2) and (state.b1 < state.c1):\n",
    "        amount = state.c1 - state.b1\n",
    "        return BucketState(state.c1, state.b2 - amount)\n",
    "    return None\n",
    "\n",
    "def pour21_empty2(state):\n",
    "    if ((state.c1 - state.b1) >= state.b2) and (state.b2 > 0):\n",
    "        return BucketState(state.b1 + state.b2, 0)   \n",
    "\n",
    "# pouring from the first bucket to the second bucket\n",
    "def pour1to2(state):\n",
    "    if state.b1 > 0:\n",
    "        amount = min(state.b1, state.c2 - state.b2)\n",
    "        return BucketState(state.b1 - amount, state.b2 + amount)\n",
    "    return None\n",
    "\n",
    "# pouring from the second bucket to the first bucket\n",
    "def pour2to1(state):\n",
    "    if state.b2 > 0:\n",
    "        amount = min(state.b2, state.c1 - state.b1)\n",
    "        return BucketState(state.b1 + amount, state.b2 - amount)\n",
    "    return None"
   ]
  },
  {
   "cell_type": "markdown",
   "metadata": {},
   "source": [
    "The following function will aggregate all states that can be generated from a given one:"
   ]
  },
  {
   "cell_type": "code",
   "execution_count": 6,
   "metadata": {},
   "outputs": [],
   "source": [
    "def child_bucket_states(state):\n",
    "    new_states = []\n",
    "    if(empty1(state)):\n",
    "        new_states.append(empty1(state))\n",
    "    if(empty2(state)):\n",
    "        new_states.append(empty2(state))\n",
    "    if(fill1(state)):\n",
    "        new_states.append(fill1(state))\n",
    "    if(fill2(state)):\n",
    "        new_states.append(fill2(state))\n",
    "    if(pour12_fill2(state)):\n",
    "        new_states.append(pour12_fill2(state))\n",
    "    if(pour12_empty1(state)):\n",
    "        new_states.append(pour12_empty1(state))\n",
    "    if(pour21_fill1(state)):\n",
    "        new_states.append(pour21_fill1(state))\n",
    "    if(pour21_empty2(state)):\n",
    "        new_states.append(pour21_empty2(state))\n",
    "    return new_states"
   ]
  },
  {
   "cell_type": "markdown",
   "metadata": {},
   "source": [
    "Play around with the state transition operators and check if they are working properly:"
   ]
  },
  {
   "cell_type": "code",
   "execution_count": 7,
   "metadata": {},
   "outputs": [
    {
     "name": "stdout",
     "output_type": "stream",
     "text": [
      "(4, 0)\n",
      "(0, 3)\n"
     ]
    }
   ],
   "source": [
    "s1 = BucketState(0, 0)\n",
    "s1 = fill1(s1)\n",
    "print(s1)\n",
    "\n",
    "s2 = BucketState(0, 0)\n",
    "s2 = fill2(s2)\n",
    "print(s2)\n",
    "\n",
    "# child_bucket_states(BucketState(0, 0))\n"
   ]
  },
  {
   "cell_type": "markdown",
   "metadata": {},
   "source": [
    "Finally, we need to define the goal condition:"
   ]
  },
  {
   "cell_type": "code",
   "execution_count": 8,
   "metadata": {},
   "outputs": [],
   "source": [
    "def goal_bucket_state(state):\n",
    "    if (state.b1 == 2): \n",
    "        return True\n",
    "    return False"
   ]
  },
  {
   "cell_type": "markdown",
   "metadata": {},
   "source": [
    "Test your goal condition:"
   ]
  },
  {
   "cell_type": "code",
   "execution_count": 9,
   "metadata": {},
   "outputs": [
    {
     "name": "stdout",
     "output_type": "stream",
     "text": [
      "True\n",
      "False\n"
     ]
    }
   ],
   "source": [
    "s1 = goal_bucket_state(BucketState(2, 0))\n",
    "print(s1)\n",
    "\n",
    "s2 = goal_bucket_state(BucketState(0, 0))\n",
    "print(s2)"
   ]
  },
  {
   "cell_type": "markdown",
   "metadata": {},
   "source": [
    "#### Implementing search algorithms\n",
    "\n",
    "Let us start by defining an appropriate structure to represent a node in a search tree. Each tree node will include:\n",
    "- a state of the problem\n",
    "- a link to its parent (to allow traveling from a leaf node towards the root of the tree)\n",
    "- a list of child nodes"
   ]
  },
  {
   "cell_type": "code",
   "execution_count": 10,
   "metadata": {},
   "outputs": [],
   "source": [
    "# A generic definition of a tree node holding a state of the problem\n",
    "class TreeNode:\n",
    "    def __init__(self, state, parent=None):\n",
    "        self.state = state\n",
    "        self.parent = parent\n",
    "        self.children = []\n",
    "        if self.parent is None:\n",
    "            self.depth = 0\n",
    "        else:\n",
    "            self.depth = self.parent.depth + 1\n",
    "\n",
    "    def add_child(self, child_node):\n",
    "        self.children.append(child_node)\n",
    "        child_node.parent = self"
   ]
  },
  {
   "cell_type": "markdown",
   "metadata": {},
   "source": [
    "##### Breadth-first search\n",
    "\n",
    "Based on this structure, we can now implement breadth-first search. Note that we want the implementation to be independent of the problem at hand (in this case, the two buckets problem)."
   ]
  },
  {
   "cell_type": "code",
   "execution_count": 11,
   "metadata": {},
   "outputs": [],
   "source": [
    "from collections import deque\n",
    "\n",
    "def breadth_first_search(initial_state, goal_state_func, operators_func):\n",
    "    root = TreeNode(initial_state)   # create the root node in the search tree\n",
    "    queue = deque([root])   # initialize the queue to store the nodes\n",
    "    \n",
    "    while queue:\n",
    "        node = queue.popleft()   # get first element in the queue\n",
    "        if goal_state_func(node.state):   # check goal state\n",
    "            return node\n",
    "        \n",
    "        for state in operators_func(node.state):   # go through next states\n",
    "            # create tree node with the new state\n",
    "            child = TreeNode(state, node)\n",
    "            \n",
    "            # link child node to its parent in the tree\n",
    "            node.add_child(child) \n",
    "            \n",
    "            # enqueue the child node\n",
    "            queue.append(child)\n",
    "            \n",
    "\n",
    "    return None"
   ]
  },
  {
   "cell_type": "markdown",
   "metadata": {},
   "source": [
    "We can now use this function to actually perform a breadth-first search on the buckets problem: we pass it the initial state, our goal condition function, and the function for obtaining child states."
   ]
  },
  {
   "cell_type": "code",
   "execution_count": 12,
   "metadata": {},
   "outputs": [
    {
     "name": "stdout",
     "output_type": "stream",
     "text": [
      "(2, 3)\n"
     ]
    }
   ],
   "source": [
    "goal = breadth_first_search(BucketState(0,0), \n",
    "                            goal_bucket_state, \n",
    "                            child_bucket_states)\n",
    "print(goal.state)"
   ]
  },
  {
   "cell_type": "markdown",
   "metadata": {},
   "source": [
    "In order to print the actual steps from the initial state to the last, we can take advantage of each node's link to its parent."
   ]
  },
  {
   "cell_type": "code",
   "execution_count": 13,
   "metadata": {},
   "outputs": [],
   "source": [
    "def print_solution(node):\n",
    "    if (node == None): return\n",
    "    print_solution(node.parent)\n",
    "    print(node.state)\n",
    "    "
   ]
  },
  {
   "cell_type": "markdown",
   "metadata": {},
   "source": [
    "Now we can print the solution:"
   ]
  },
  {
   "cell_type": "code",
   "execution_count": 14,
   "metadata": {},
   "outputs": [
    {
     "name": "stdout",
     "output_type": "stream",
     "text": [
      "(0, 0)\n",
      "(4, 0)\n",
      "(1, 3)\n",
      "(1, 0)\n",
      "(0, 1)\n",
      "(4, 1)\n",
      "(2, 3)\n"
     ]
    }
   ],
   "source": [
    "print_solution(goal)"
   ]
  },
  {
   "cell_type": "markdown",
   "metadata": {},
   "source": [
    "If we need a description for each of the employed operators, we could have each operation function return also such a description, and modify the TreeNode class so that each node also includes a description of the edge to get there. We leave that as an exercise after class."
   ]
  },
  {
   "cell_type": "markdown",
   "metadata": {},
   "source": [
    "##### Depth-first search\n",
    "\n",
    "Implement depth-first search (again, in a manner that is independent of the problem at hand). You can start from your breadth-first search implementation and with minor changes get an implementation for depth-first search."
   ]
  },
  {
   "cell_type": "code",
   "execution_count": 15,
   "metadata": {},
   "outputs": [],
   "source": [
    "visited = []\n",
    "def depth_first_search(initial_state, goal_state_func, operators_func): \n",
    "    node = TreeNode(initial_state)\n",
    "    if goal_state_func(node.state): # check goal state\n",
    "        return node\n",
    "\n",
    "    if node.state not in visited:\n",
    "        visited.append(node.state)\n",
    "\n",
    "        for state in operators_func(node.state):   # go through next states\n",
    "            new_node = TreeNode(state) # create tree node with the new state\n",
    "            new_node.parent = node # associate the new node with the parent node (node is the parent of new_node)\n",
    "\n",
    "            result = depth_first_search(new_node.state, goal_state_func, operators_func) # executes a DFS on the new_node\n",
    "            if result is not None:\n",
    "                return result\n",
    "\n",
    "\n",
    "    return None"
   ]
  },
  {
   "cell_type": "markdown",
   "metadata": {},
   "source": [
    "Test it on the two buckets problem."
   ]
  },
  {
   "cell_type": "code",
   "execution_count": 16,
   "metadata": {},
   "outputs": [
    {
     "name": "stdout",
     "output_type": "stream",
     "text": [
      "(2, 0)\n"
     ]
    }
   ],
   "source": [
    "goal = depth_first_search(BucketState(0,0), \n",
    "                            goal_bucket_state, \n",
    "                            child_bucket_states)\n",
    "print(goal.state)"
   ]
  },
  {
   "cell_type": "markdown",
   "metadata": {},
   "source": [
    "If you are unable to get a solution, think about it: depth-first search is not a complete search method, and one of the reasons for that is if the state space contains cycles. As such, you need to make sure you avoid entering into a cycle by keeping a visited nodes list or set and checking that list whenever you generate a new state."
   ]
  },
  {
   "cell_type": "markdown",
   "metadata": {},
   "source": [
    "##### Depth-limited search\n",
    "\n",
    "Another way to make it work is to impose a depth limit to the problem. Implement depth-limited search."
   ]
  },
  {
   "cell_type": "code",
   "execution_count": 110,
   "metadata": {},
   "outputs": [],
   "source": [
    "def depth_limited_search(initial_state, goal_state_func, operators_func, depth_limit, visited):\n",
    "    node = TreeNode(initial_state)\n",
    "    \n",
    "    if goal_state_func(node.state): # check goal state\n",
    "        return node\n",
    "    \n",
    "    if (depth_limit == 0): return None\n",
    "    \n",
    "    if node.state not in visited:\n",
    "        visited.append(node.state)\n",
    "\n",
    "        for state in operators_func(node.state):   # go through next states\n",
    "            new_node = TreeNode(state) # create tree node with the new state\n",
    "            new_node.parent = node # associate the new node with the parent node (node is the parent of new_node)\n",
    "\n",
    "            result = depth_limited_search(new_node.state, goal_state_func, operators_func, depth_limit - 1, visited) # executes a DFS on the new_node\n",
    "            if result is not None:\n",
    "                return result\n",
    "\n",
    "\n",
    "    return None"
   ]
  },
  {
   "cell_type": "markdown",
   "metadata": {},
   "source": [
    "Test it on the two buckets problem."
   ]
  },
  {
   "cell_type": "code",
   "execution_count": 111,
   "metadata": {},
   "outputs": [
    {
     "name": "stdout",
     "output_type": "stream",
     "text": [
      "(2, 3)\n"
     ]
    }
   ],
   "source": [
    "goal = depth_limited_search(BucketState(0,0), \n",
    "                            goal_bucket_state, \n",
    "                            child_bucket_states, \n",
    "                            6, [])\n",
    "\n",
    "if (goal != None): \n",
    "    print(goal.state)\n",
    "else:\n",
    "    print(goal)"
   ]
  },
  {
   "cell_type": "markdown",
   "metadata": {},
   "source": [
    "##### Iterative deepening search\n",
    "\n",
    "Based on depth-limited, you can easily implement iterative-deepening search."
   ]
  },
  {
   "cell_type": "code",
   "execution_count": 108,
   "metadata": {},
   "outputs": [],
   "source": [
    "def iterative_deepening_search(initial_state, goal_state_func, operators_func):\n",
    "    for i in range(1, 1000):\n",
    "        node = TreeNode(initial_state)\n",
    "        result = depth_limited_search(node.state, goal_state_func, operators_func, i, [])\n",
    "        if result is not None:\n",
    "            return result\n",
    "        \n",
    "    return None"
   ]
  },
  {
   "cell_type": "markdown",
   "metadata": {},
   "source": [
    "Again, test it on the two buckets problem."
   ]
  },
  {
   "cell_type": "code",
   "execution_count": 113,
   "metadata": {},
   "outputs": [
    {
     "name": "stdout",
     "output_type": "stream",
     "text": [
      "(2, 3)\n"
     ]
    }
   ],
   "source": [
    "goal = iterative_deepening_search(BucketState(0,0), \n",
    "                            goal_bucket_state, \n",
    "                            child_bucket_states)\n",
    "\n",
    "if (goal != None): \n",
    "    print(goal.state)\n",
    "else:\n",
    "    print(goal)\n"
   ]
  },
  {
   "cell_type": "markdown",
   "metadata": {},
   "source": [
    "##### Greedy search\n",
    "\n",
    "Start by defining an heuristic function and implement the Greedy Search algorithm (independent of the problem at hand)"
   ]
  },
  {
   "cell_type": "code",
   "execution_count": 117,
   "metadata": {},
   "outputs": [],
   "source": [
    "def heuristic_bucket(node):\n",
    "    # heuristic function for the bucket filling problem\n",
    "    # your code here\n",
    "    return abs(node.b1 - 2)\n"
   ]
  },
  {
   "cell_type": "code",
   "execution_count": 126,
   "metadata": {},
   "outputs": [],
   "source": [
    "def get_min_bucket(array):\n",
    "    min = 9999999\n",
    "    bucket = array[0]\n",
    "    for t in array:\n",
    "        if (t[0] <= min):\n",
    "            min = t[1].b1\n",
    "            bucket = t\n",
    "    \n",
    "    return bucket\n",
    "\n",
    "\n",
    "def greedy_search(initial_state, goal_state_func, operators_func, heuristic_func):\n",
    "    opened_list = [(heuristic_bucket(initial_state), initial_state)]\n",
    "    closed_list = []\n",
    "\n",
    "    while opened_list:\n",
    "        bucket = get_min_bucket(opened_list) # state = min(opened_list, key = lambda t: t[0])[1]\n",
    "        state = bucket[1]\n",
    "\n",
    "        if (goal_state_func(state)): return state\n",
    "        \n",
    "        opened_list.remove(bucket)\n",
    "        closed_list.append(state) # add the current state to the closed list of states already analyzed\n",
    "        \n",
    "        for op in operators_func(state): # possible final states after operations in the current state\n",
    "            if op in closed_list:\n",
    "                continue # ignore operation\n",
    "            h = heuristic_func(op)\n",
    "            opened_list.append((h, op))\n",
    "\n",
    "    return None"
   ]
  },
  {
   "cell_type": "markdown",
   "metadata": {},
   "source": [
    "Test it on the two buckets problem."
   ]
  },
  {
   "cell_type": "code",
   "execution_count": 119,
   "metadata": {},
   "outputs": [
    {
     "name": "stdout",
     "output_type": "stream",
     "text": [
      "(2, 0)\n"
     ]
    }
   ],
   "source": [
    "# your code here\n",
    "solution = greedy_search(BucketState(0, 0), lambda s: goal_bucket_state(s), child_bucket_states, lambda s: heuristic_bucket(s))\n",
    "print(solution)"
   ]
  },
  {
   "cell_type": "markdown",
   "metadata": {},
   "source": [
    "##### A* Algorithm\n",
    "\n",
    "Reuse the heuristic function defined before. This is very similar to greedy search, the difference is that it takes into account the cost of the path so far"
   ]
  },
  {
   "cell_type": "code",
   "execution_count": 127,
   "metadata": {},
   "outputs": [],
   "source": [
    "def a_star_search(initial_state, goal_state_func, operators_func, heuristic):\n",
    "    # your code here\n",
    "    return greedy_search(initial_state, goal_state_func, operators_func, lambda s: 1 + heuristic(s))"
   ]
  },
  {
   "cell_type": "markdown",
   "metadata": {},
   "source": [
    "Again, test it on the two buckets problem."
   ]
  },
  {
   "cell_type": "code",
   "execution_count": 129,
   "metadata": {},
   "outputs": [
    {
     "name": "stdout",
     "output_type": "stream",
     "text": [
      "(2, 0)\n"
     ]
    }
   ],
   "source": [
    "# your code here\n",
    "solution = a_star_search(BucketState(0, 0), lambda s: goal_bucket_state(s), child_bucket_states, lambda s: heuristic_bucket(s))\n",
    "\n",
    "if (goal != None): \n",
    "    print(solution)\n",
    "else:\n",
    "    print(None)"
   ]
  },
  {
   "cell_type": "markdown",
   "metadata": {},
   "source": [
    "## The Missionaries and Cannibals Problem \n",
    "\n",
    "<img src=\"https://www.gamezkingdom.com/content/images/thumbs/0002926_missionaries-and-cannibals.jpeg\" width=\"250px\" height=\"250px\" align=\"right\">\n",
    "\n",
    "Three missionaries and three cannibals are on one of the banks of the river with a boat that only takes one or two people. The boat cannot travel the river alone.\n",
    "\n",
    "The goal is to find a way to get the six to the other bank of the river without ever leaving more cannibals than missionaries on one of the banks (even at the instant they leave/join the boat) during the process."
   ]
  },
  {
   "cell_type": "markdown",
   "metadata": {},
   "source": [
    "Formulate this problem as a search problem by defining the state representation, initial state, operators (their name, preconditions, effects, and cost), and objective test."
   ]
  },
  {
   "cell_type": "raw",
   "metadata": {},
   "source": [
    "- State representation: A state can be represented by a tuple (m, c, b) where m is the \n",
    "number of missionaries on the current bank, c is the number of cannibals on the current \n",
    "bank, and b is a boolean value indicating the position of the boat (0 if on the initial \n",
    "bank, 1 if on the other bank).\n",
    "\n",
    "- Initial state: (3, 3, 0)\n",
    "\n",
    "- Operators:\n",
    "    -> move(m, c, b, delta_m, delta_c, delta_b): This operator moves delta_m missionaries and \n",
    "    delta_c cannibals from the current bank to the other bank. The delta_b parameter indicates \n",
    "    whether the boat is moving from the current bank to the other bank (1) or from the other bank \n",
    "    to the current bank (0). The precondition of this operator is that the number of missionaries \n",
    "    on the current bank plus delta_m must be greater than or equal to the number of cannibals on the \n",
    "    current bank plus delta_c, and also that the number of missionaries on the other bank plus delta_m \n",
    "    must be greater than or equal to the number of cannibals on the other bank plus delta_c. The effect \n",
    "    of this operator is to change the state from (m, c, b) to (m + delta_m, c + delta_c, b + delta_b). \n",
    "    The cost of this operator is 1.\n",
    "\n",
    "- Objective test: The objective is to reach a state where all the missionaries and cannibals are on the \n",
    "other bank and the number of cannibals is not greater than the number of missionaries on either bank. \n",
    "The objective test checks whether the current state is (0, 0, 1).\n",
    "\n",
    "- Putting it all together, the problem can be formulated as a search problem with the following components:\n",
    "    -> Initial state: (3, 3, 0)\n",
    "    -> Successor function: move(m, c, b, delta_m, delta_c, delta_b)\n",
    "    -> Objective test: (m, c, b) == (0, 0, 1) and c <= m and (3-m) >= (3-c)\n",
    "    -> Cost function: 1 (for all operators)"
   ]
  },
  {
   "cell_type": "markdown",
   "metadata": {},
   "source": [
    "Solve the problem by hand, using tree search. What solutions have you found?"
   ]
  },
  {
   "cell_type": "raw",
   "metadata": {},
   "source": []
  },
  {
   "cell_type": "markdown",
   "metadata": {},
   "source": [
    "Represent the problem as a search problem and take advantage of the implemented search algorithms to find solutions!"
   ]
  },
  {
   "cell_type": "code",
   "execution_count": null,
   "metadata": {},
   "outputs": [],
   "source": [
    "# your code here\n"
   ]
  },
  {
   "cell_type": "markdown",
   "metadata": {},
   "source": [
    "## N-Puzzle Problem\n",
    "\n",
    "The objective of this exercise is the application of search methods, with emphasis on informed\n",
    "search methods and the A\\* algorithm, to solve the well-known N-Puzzle problem. The desired\n",
    "objective self for the puzzle is as follows (0 represents the empty space):\n",
    "\n",
    "<table>\n",
    "<tr><th>9Puzzle</th><th>16Puzzle</th></tr>\n",
    "<tr>\n",
    "<td>\n",
    "\n",
    "|     |     |     |\n",
    "| --- | --- | --- |\n",
    "| 1   | 2   | 3   |\n",
    "| 4   | 5   | 6   |\n",
    "| 7   | 8   | 0   |\n",
    "\n",
    "\n",
    "</td>\n",
    "<td>\n",
    "\n",
    "|     |     |     |     |\n",
    "| --- | --- | --- | --- |\n",
    "| 1   | 2   | 3   | 4   |\n",
    "| 5   | 6   | 7   | 8   |\n",
    "| 9   | 10  | 11  | 12  |\n",
    "| 13  | 14  | 15  | 0   |\n",
    "\n",
    "</td>\n",
    "</tr>\n",
    "</table>\n",
    "\n",
    "Starting from a given initial state, the goal is to determine which operations to perform to\n",
    "solve the puzzle, reaching the desired objective self."
   ]
  },
  {
   "cell_type": "markdown",
   "metadata": {},
   "source": [
    "Formulate this problem as a search problem by defining the state representation, initial state, operators (their name, preconditions, effects, and cost), and objective test."
   ]
  },
  {
   "cell_type": "raw",
   "metadata": {},
   "source": []
  },
  {
   "cell_type": "markdown",
   "metadata": {},
   "source": [
    "Represent the problem as a search problem and take advantage of the implemented search algorithms to find solutions!\n",
    "\n",
    "For the Greedy Search and the A* Algorithm suppose the following heuristics for these methods:\n",
    "- H1 - Number of incorrect placed pieces;\n",
    "- H2 - Sum of manhattan distances from incorrect placed pieces to their correct places. \n",
    "\n",
    "Finally Compare the results obtained concerning execution time and memory space occupied in solving the following problems using the previous methods\n",
    "\n",
    "<table>\n",
    "<tr><th>Prob. 1</th><th>Prob. 2</th><th>Prob. 3</th><th>Prob. 4</th></tr>\n",
    "<tr>\n",
    "<td>\n",
    "\n",
    "|     |     |     |\n",
    "| --- | --- | --- |\n",
    "| 1   | 2   | 3   |\n",
    "| 5   | 0   | 6   |\n",
    "| 4   | 7   | 8   | \n",
    "\n",
    "</td>\n",
    "<td>\n",
    "\n",
    "|     |     |     |\n",
    "| --- | --- | --- |\n",
    "| 1   | 3   | 6   |\n",
    "| 5   | 2   | 0   |\n",
    "| 4   | 7   | 8   | \n",
    "\n",
    "</td>\n",
    "<td>\n",
    "\n",
    "|     |     |     |\n",
    "| --- | --- | --- |\n",
    "| 1   | 6   | 2   |\n",
    "| 5   | 7   | 3   |\n",
    "| 0   | 4   | 8   | \n",
    "\n",
    "</td>\n",
    "<td>\n",
    "\n",
    "|     |     |     |     |\n",
    "| --- | --- | --- | --- |\n",
    "| 5   | 1   | 3   | 4   |\n",
    "| 2   | 0   | 7   | 8   |\n",
    "| 10  | 6   | 11  | 12  |\n",
    "| 9   | 13  | 14  | 15  |\n",
    "\n",
    "</td>\n",
    "</tr>\n",
    "</table>"
   ]
  },
  {
   "cell_type": "code",
   "execution_count": null,
   "metadata": {},
   "outputs": [],
   "source": [
    "# the following arrays represent the problem for testing\n",
    "initial_states = [\n",
    "    [[1, 2, 3], [5, 0, 6], [4, 7, 8]],\n",
    "    [[1, 3, 6], [5, 2, 0], [4, 7, 8]],\n",
    "    [[1, 6, 2], [5, 7, 3], [0, 4, 8]],\n",
    "    [[5, 1, 3, 4], [2, 0, 7, 8], [10, 6, 11, 12], [9, 13, 14, 15]]\n",
    "]"
   ]
  },
  {
   "cell_type": "code",
   "execution_count": null,
   "metadata": {},
   "outputs": [],
   "source": [
    "# your code here\n"
   ]
  }
 ],
 "metadata": {
  "kernelspec": {
   "display_name": "Python 3",
   "language": "python",
   "name": "python3"
  },
  "language_info": {
   "codemirror_mode": {
    "name": "ipython",
    "version": 3
   },
   "file_extension": ".py",
   "mimetype": "text/x-python",
   "name": "python",
   "nbconvert_exporter": "python",
   "pygments_lexer": "ipython3",
   "version": "3.10.10"
  },
  "vscode": {
   "interpreter": {
    "hash": "b0fa6594d8f4cbf19f97940f81e996739fb7646882a419484c72d19e05852a7e"
   }
  }
 },
 "nbformat": 4,
 "nbformat_minor": 4
}
